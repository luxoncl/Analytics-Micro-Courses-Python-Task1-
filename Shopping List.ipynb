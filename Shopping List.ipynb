{
 "cells": [
  {
   "cell_type": "code",
   "execution_count": 4,
   "id": "acbdc21d-3d4a-4d28-a6a8-43473290375b",
   "metadata": {},
   "outputs": [
    {
     "name": "stdout",
     "output_type": "stream",
     "text": [
      "\n",
      "Shopping List Menu:\n",
      "1. Add item: Add an item to your shopping list.\n",
      "2. Remove item: Remove an item from your shopping list.\n",
      "3. Show list: Display all items in the shopping list.\n",
      "4. Clear list: Remove all items from your shopping list.\n",
      "5. Exit: Exit the shopping list program.\n"
     ]
    },
    {
     "name": "stdin",
     "output_type": "stream",
     "text": [
      "Choose an option (1-5):  1\n",
      "Enter the item to add:  jam\n"
     ]
    },
    {
     "name": "stdout",
     "output_type": "stream",
     "text": [
      "Item \"jam\" has been successfully added to your shopping list.\n"
     ]
    },
    {
     "name": "stdin",
     "output_type": "stream",
     "text": [
      "\n",
      "Do you want to continue? (yes/no):  yes\n"
     ]
    },
    {
     "name": "stdout",
     "output_type": "stream",
     "text": [
      "\n",
      "Shopping List Menu:\n",
      "1. Add item: Add an item to your shopping list.\n",
      "2. Remove item: Remove an item from your shopping list.\n",
      "3. Show list: Display all items in the shopping list.\n",
      "4. Clear list: Remove all items from your shopping list.\n",
      "5. Exit: Exit the shopping list program.\n"
     ]
    },
    {
     "name": "stdin",
     "output_type": "stream",
     "text": [
      "Choose an option (1-5):  3\n"
     ]
    },
    {
     "name": "stdout",
     "output_type": "stream",
     "text": [
      "\n",
      "Your Shopping List:\n",
      "1. jam\n"
     ]
    },
    {
     "name": "stdin",
     "output_type": "stream",
     "text": [
      "\n",
      "Do you want to continue? (yes/no):  yes\n"
     ]
    },
    {
     "name": "stdout",
     "output_type": "stream",
     "text": [
      "\n",
      "Shopping List Menu:\n",
      "1. Add item: Add an item to your shopping list.\n",
      "2. Remove item: Remove an item from your shopping list.\n",
      "3. Show list: Display all items in the shopping list.\n",
      "4. Clear list: Remove all items from your shopping list.\n",
      "5. Exit: Exit the shopping list program.\n"
     ]
    },
    {
     "name": "stdin",
     "output_type": "stream",
     "text": [
      "Choose an option (1-5):  4\n"
     ]
    },
    {
     "name": "stdout",
     "output_type": "stream",
     "text": [
      "All items have been cleared from your shopping list.\n"
     ]
    },
    {
     "name": "stdin",
     "output_type": "stream",
     "text": [
      "\n",
      "Do you want to start a new shopping list? (yes/no):  yes\n"
     ]
    },
    {
     "name": "stdout",
     "output_type": "stream",
     "text": [
      "\n",
      "Shopping List Menu:\n",
      "1. Add item: Add an item to your shopping list.\n",
      "2. Remove item: Remove an item from your shopping list.\n",
      "3. Show list: Display all items in the shopping list.\n",
      "4. Clear list: Remove all items from your shopping list.\n",
      "5. Exit: Exit the shopping list program.\n"
     ]
    },
    {
     "name": "stdin",
     "output_type": "stream",
     "text": [
      "Choose an option (1-5):  1\n",
      "Enter the item to add:  cake\n"
     ]
    },
    {
     "name": "stdout",
     "output_type": "stream",
     "text": [
      "Item \"cake\" has been successfully added to your shopping list.\n"
     ]
    },
    {
     "name": "stdin",
     "output_type": "stream",
     "text": [
      "\n",
      "Do you want to continue? (yes/no):  2\n"
     ]
    },
    {
     "name": "stdout",
     "output_type": "stream",
     "text": [
      "Error: Please enter 'yes' or 'no'.\n"
     ]
    },
    {
     "name": "stdin",
     "output_type": "stream",
     "text": [
      "\n",
      "Do you want to continue? (yes/no):  yes\n"
     ]
    },
    {
     "name": "stdout",
     "output_type": "stream",
     "text": [
      "\n",
      "Shopping List Menu:\n",
      "1. Add item: Add an item to your shopping list.\n",
      "2. Remove item: Remove an item from your shopping list.\n",
      "3. Show list: Display all items in the shopping list.\n",
      "4. Clear list: Remove all items from your shopping list.\n",
      "5. Exit: Exit the shopping list program.\n"
     ]
    },
    {
     "name": "stdin",
     "output_type": "stream",
     "text": [
      "Choose an option (1-5):  4\n"
     ]
    },
    {
     "name": "stdout",
     "output_type": "stream",
     "text": [
      "All items have been cleared from your shopping list.\n"
     ]
    },
    {
     "name": "stdin",
     "output_type": "stream",
     "text": [
      "\n",
      "Do you want to start a new shopping list? (yes/no):  5\n"
     ]
    },
    {
     "name": "stdout",
     "output_type": "stream",
     "text": [
      "Error: Please enter 'yes' or 'no'.\n"
     ]
    },
    {
     "name": "stdin",
     "output_type": "stream",
     "text": [
      "\n",
      "Do you want to start a new shopping list? (yes/no):  no\n"
     ]
    },
    {
     "name": "stdout",
     "output_type": "stream",
     "text": [
      "Exiting the shopping list program. Goodbye!\n"
     ]
    }
   ],
   "source": [
    "def show_menu():\n",
    "    print(\"\\nShopping List Menu:\")\n",
    "    print(\"1. Add item: Add an item to your shopping list.\")\n",
    "    print(\"2. Remove item: Remove an item from your shopping list.\")\n",
    "    print(\"3. Show list: Display all items in the shopping list.\")\n",
    "    print(\"4. Clear list: Remove all items from your shopping list.\")\n",
    "    print(\"5. Exit: Exit the shopping list program.\")\n",
    "\n",
    "def add_item(shopping_list):\n",
    "    item = input(\"Enter the item to add: \").strip()\n",
    "    if item:\n",
    "        shopping_list.append(item)\n",
    "        print(f'Item \"{item}\" has been successfully added to your shopping list.')\n",
    "    else:\n",
    "        print(\"Error: Item cannot be empty. Please enter a valid item.\")\n",
    "\n",
    "def remove_item(shopping_list):\n",
    "    if not shopping_list:\n",
    "        print(\"Error: Your shopping list is empty. Nothing to remove.\")\n",
    "        return\n",
    "\n",
    "    item = input(\"Enter the item name to remove: \").strip()\n",
    "    if item in shopping_list:\n",
    "        shopping_list.remove(item)\n",
    "        print(f'Item \"{item}\" has been removed from your shopping list.')\n",
    "    else:\n",
    "        print(f'Error: Item \"{item}\" is not in your shopping list.')\n",
    "\n",
    "def show_list(shopping_list):\n",
    "    if shopping_list:\n",
    "        print(\"\\nYour Shopping List:\")\n",
    "        for idx, item in enumerate(shopping_list, 1):\n",
    "            print(f\"{idx}. {item}\")\n",
    "    else:\n",
    "        print(\"Your shopping list is currently empty.\")\n",
    "\n",
    "def clear_list(shopping_list):\n",
    "    if not shopping_list:\n",
    "        print(\"Error: Your shopping list is already empty.\")\n",
    "        return\n",
    "\n",
    "    shopping_list.clear()\n",
    "    print(\"All items have been cleared from your shopping list.\")\n",
    "\n",
    "def confirm_continue():\n",
    "    while True:\n",
    "        choice = input(\"\\nDo you want to continue? (yes/no): \").strip().lower()\n",
    "        if choice == 'yes':\n",
    "            return True\n",
    "        elif choice == 'no':\n",
    "            print(\"Exiting the shopping list program. Goodbye!\")\n",
    "            return False\n",
    "        else:\n",
    "            print(\"Error: Please enter 'yes' or 'no'.\")\n",
    "\n",
    "def start_new_list():\n",
    "    while True:\n",
    "        choice = input(\"\\nDo you want to start a new shopping list? (yes/no): \").strip().lower()\n",
    "        if choice == 'yes':\n",
    "            return True\n",
    "        elif choice == 'no':\n",
    "            print(\"Exiting the shopping list program. Goodbye!\")\n",
    "            return False\n",
    "        else:\n",
    "            print(\"Error: Please enter 'yes' or 'no'.\")\n",
    "\n",
    "def main():\n",
    "    shopping_list = []\n",
    "\n",
    "    while True:\n",
    "        show_menu()\n",
    "        try:\n",
    "            choice = input(\"Choose an option (1-5): \").strip()\n",
    "\n",
    "            if choice == '1':\n",
    "                add_item(shopping_list)\n",
    "                if not confirm_continue():\n",
    "                    break\n",
    "            elif choice == '2':\n",
    "                remove_item(shopping_list)\n",
    "                if not confirm_continue():\n",
    "                    break\n",
    "            elif choice == '3':\n",
    "                show_list(shopping_list)\n",
    "                if not confirm_continue():\n",
    "                    break\n",
    "            elif choice == '4':\n",
    "                clear_list(shopping_list)\n",
    "                if not shopping_list:  # After clearing, ask if they want to start a new list or exit\n",
    "                    if not start_new_list():\n",
    "                        break\n",
    "            elif choice == '5':\n",
    "                print(\"Exiting the shopping list program. Goodbye!\")\n",
    "                break\n",
    "            else:\n",
    "                print(\"Error: Invalid option, please choose a valid option between 1 and 5.\")\n",
    "        except ValueError:\n",
    "            print(\"Error: Invalid input. Please enter a valid option.\")\n",
    "\n",
    "if __name__ == \"__main__\":\n",
    "    main()\n"
   ]
  },
  {
   "cell_type": "code",
   "execution_count": null,
   "id": "a8c939b3-ae19-459c-8ac8-0484f396bae4",
   "metadata": {},
   "outputs": [],
   "source": []
  },
  {
   "cell_type": "code",
   "execution_count": null,
   "id": "255ec1f9-f88f-49e4-b8bc-5f8164647abb",
   "metadata": {},
   "outputs": [],
   "source": []
  }
 ],
 "metadata": {
  "kernelspec": {
   "display_name": "Python 3 (ipykernel)",
   "language": "python",
   "name": "python3"
  },
  "language_info": {
   "codemirror_mode": {
    "name": "ipython",
    "version": 3
   },
   "file_extension": ".py",
   "mimetype": "text/x-python",
   "name": "python",
   "nbconvert_exporter": "python",
   "pygments_lexer": "ipython3",
   "version": "3.12.4"
  }
 },
 "nbformat": 4,
 "nbformat_minor": 5
}
